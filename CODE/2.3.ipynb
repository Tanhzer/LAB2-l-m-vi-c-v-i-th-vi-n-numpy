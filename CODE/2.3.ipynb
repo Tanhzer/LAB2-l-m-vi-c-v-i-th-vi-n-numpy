{
 "cells": [
  {
   "cell_type": "code",
   "execution_count": 1,
   "metadata": {},
   "outputs": [
    {
     "name": "stdout",
     "output_type": "stream",
     "text": [
      "Efficiency: [94.0, 97.0, 114.0, 117.0, 117.0, 59.0, 133.0, 71.0, 86.0, 137.0, 120.0, 138.0, 138.0, 62.0, 108.0, 115.0, 89.0, 137.0, 96.0, 138.0, 131.0, 87.0, 75.0, 127.0, 122.0, 59.0, 70.0, 130.0, 119.0, 129.0, 97.0, 114.0, 132.0, 149.0, 138.0, 99.0, 79.0, 69.0, 69.0, 64.0, 89.0, 82.0, 115.0, 59.0, 107.0, 82.0, 81.0, 124.0, 73.0, 85.0, 125.0, 105.0, 78.0, 84.0, 50.0, 50.0, 86.0, 103.0, 55.0, 88.0, 67.0, 129.0, 54.0, 92.0, 108.0, 81.0, 51.0, 115.0, 91.0, 107.0, 85.0, 61.0, 96.0, 132.0, 141.0, 50.0, 64.0, 149.0, 103.0, 62.0, 92.0, 134.0, 125.0, 118.0, 56.0, 118.0, 97.0, 53.0, 126.0, 102.0, 128.0, 65.0, 70.0, 149.0, 108.0, 73.0, 129.0, 63.0, 135.0, 98.0]\n",
      "Shifts: ['Afternoon', 'Afternoon', 'Afternoon', 'Morning', 'Afternoon', 'Night', 'Morning', 'Afternoon', 'Night', 'Morning', 'Night', 'Morning', 'Afternoon', 'Night', 'Night', 'Afternoon', 'Morning', 'Afternoon', 'Afternoon', 'Morning', 'Night', 'Night', 'Night', 'Night', 'Afternoon', 'Night', 'Night', 'Night', 'Night', 'Night', 'Morning', 'Afternoon', 'Night', 'Night', 'Afternoon', 'Night', 'Afternoon', 'Morning', 'Night', 'Night', 'Morning', 'Night', 'Morning', 'Morning', 'Night', 'Morning', 'Night', 'Night', 'Night', 'Morning', 'Morning', 'Morning', 'Afternoon', 'Night', 'Morning', 'Afternoon', 'Night', 'Night', 'Night', 'Afternoon', 'Morning', 'Morning', 'Morning', 'Morning', 'Night', 'Night', 'Morning', 'Morning', 'Morning', 'Afternoon', 'Night', 'Morning', 'Morning', 'Afternoon', 'Morning', 'Night', 'Afternoon', 'Afternoon', 'Afternoon', 'Morning', 'Morning', 'Morning', 'Afternoon', 'Afternoon', 'Night', 'Afternoon', 'Morning', 'Morning', 'Afternoon', 'Night', 'Afternoon', 'Afternoon', 'Afternoon', 'Morning', 'Morning', 'Morning', 'Afternoon', 'Night', 'Afternoon', 'Afternoon']\n"
     ]
    }
   ],
   "source": [
    "# Đọc dữ liệu từ tập tin efficiency.txt\n",
    "with open('efficiency.txt', 'r') as file:\n",
    "    efficiency = [float(line.strip()) for line in file]\n",
    "\n",
    "# Đọc dữ liệu từ tập tin shifts.txt\n",
    "with open('shifts.txt', 'r') as file:\n",
    "    shifts = [line.strip() for line in file]\n",
    "\n",
    "# Kiểm tra dữ liệu\n",
    "print(\"Efficiency:\", efficiency)\n",
    "print(\"Shifts:\", shifts)\n"
   ]
  },
  {
   "cell_type": "code",
   "execution_count": 2,
   "metadata": {},
   "outputs": [
    {
     "name": "stdout",
     "output_type": "stream",
     "text": [
      "np_shifts: ['Afternoon' 'Afternoon' 'Afternoon' 'Morning' 'Afternoon' 'Night'\n",
      " 'Morning' 'Afternoon' 'Night' 'Morning' 'Night' 'Morning' 'Afternoon'\n",
      " 'Night' 'Night' 'Afternoon' 'Morning' 'Afternoon' 'Afternoon' 'Morning'\n",
      " 'Night' 'Night' 'Night' 'Night' 'Afternoon' 'Night' 'Night' 'Night'\n",
      " 'Night' 'Night' 'Morning' 'Afternoon' 'Night' 'Night' 'Afternoon' 'Night'\n",
      " 'Afternoon' 'Morning' 'Night' 'Night' 'Morning' 'Night' 'Morning'\n",
      " 'Morning' 'Night' 'Morning' 'Night' 'Night' 'Night' 'Morning' 'Morning'\n",
      " 'Morning' 'Afternoon' 'Night' 'Morning' 'Afternoon' 'Night' 'Night'\n",
      " 'Night' 'Afternoon' 'Morning' 'Morning' 'Morning' 'Morning' 'Night'\n",
      " 'Night' 'Morning' 'Morning' 'Morning' 'Afternoon' 'Night' 'Morning'\n",
      " 'Morning' 'Afternoon' 'Morning' 'Night' 'Afternoon' 'Afternoon'\n",
      " 'Afternoon' 'Morning' 'Morning' 'Morning' 'Afternoon' 'Afternoon' 'Night'\n",
      " 'Afternoon' 'Morning' 'Morning' 'Afternoon' 'Night' 'Afternoon'\n",
      " 'Afternoon' 'Afternoon' 'Morning' 'Morning' 'Morning' 'Afternoon' 'Night'\n",
      " 'Afternoon' 'Afternoon']\n",
      "np_shifts dtype: <U9\n"
     ]
    }
   ],
   "source": [
    "import numpy as np\n",
    "\n",
    "# Tạo mảng numpy từ shifts\n",
    "np_shifts = np.array(shifts)\n",
    "print(\"np_shifts:\", np_shifts)\n",
    "print(\"np_shifts dtype:\", np_shifts.dtype)\n"
   ]
  },
  {
   "cell_type": "code",
   "execution_count": 3,
   "metadata": {},
   "outputs": [
    {
     "name": "stdout",
     "output_type": "stream",
     "text": [
      "np_efficiency: [ 94.  97. 114. 117. 117.  59. 133.  71.  86. 137. 120. 138. 138.  62.\n",
      " 108. 115.  89. 137.  96. 138. 131.  87.  75. 127. 122.  59.  70. 130.\n",
      " 119. 129.  97. 114. 132. 149. 138.  99.  79.  69.  69.  64.  89.  82.\n",
      " 115.  59. 107.  82.  81. 124.  73.  85. 125. 105.  78.  84.  50.  50.\n",
      "  86. 103.  55.  88.  67. 129.  54.  92. 108.  81.  51. 115.  91. 107.\n",
      "  85.  61.  96. 132. 141.  50.  64. 149. 103.  62.  92. 134. 125. 118.\n",
      "  56. 118.  97.  53. 126. 102. 128.  65.  70. 149. 108.  73. 129.  63.\n",
      " 135.  98.]\n",
      "np_efficiency dtype: float64\n"
     ]
    }
   ],
   "source": [
    "# Tạo mảng numpy từ efficiency\n",
    "np_efficiency = np.array(efficiency)\n",
    "print(\"np_efficiency:\", np_efficiency)\n",
    "print(\"np_efficiency dtype:\", np_efficiency.dtype)\n"
   ]
  },
  {
   "cell_type": "code",
   "execution_count": 4,
   "metadata": {},
   "outputs": [
    {
     "name": "stdout",
     "output_type": "stream",
     "text": [
      "Hiệu suất trung bình của ca Morning: 96.8529411764706\n"
     ]
    }
   ],
   "source": [
    "# Lấy chỉ số của các nhân viên làm việc vào ca 'Morning'\n",
    "morning_indices = np.where(np_shifts == 'Morning')\n",
    "# Tính hiệu suất trung bình\n",
    "morning_avg_efficiency = np.mean(np_efficiency[morning_indices])\n",
    "print(\"Hiệu suất trung bình của ca Morning:\", morning_avg_efficiency)\n"
   ]
  },
  {
   "cell_type": "code",
   "execution_count": 5,
   "metadata": {},
   "outputs": [
    {
     "name": "stdout",
     "output_type": "stream",
     "text": [
      "Hiệu suất trung bình của các ca khác Morning: 98.93939393939394\n"
     ]
    }
   ],
   "source": [
    "# Lấy chỉ số của các nhân viên làm việc không phải ca 'Morning'\n",
    "non_morning_indices = np.where(np_shifts != 'Morning')\n",
    "# Tính hiệu suất trung bình\n",
    "non_morning_avg_efficiency = np.mean(np_efficiency[non_morning_indices])\n",
    "print(\"Hiệu suất trung bình của các ca khác Morning:\", non_morning_avg_efficiency)\n"
   ]
  },
  {
   "cell_type": "code",
   "execution_count": 6,
   "metadata": {},
   "outputs": [
    {
     "name": "stdout",
     "output_type": "stream",
     "text": [
      "Workers array: [('Afternoon',  94.) ('Afternoon',  97.) ('Afternoon', 114.)\n",
      " ('Morning', 117.) ('Afternoon', 117.) ('Night',  59.) ('Morning', 133.)\n",
      " ('Afternoon',  71.) ('Night',  86.) ('Morning', 137.) ('Night', 120.)\n",
      " ('Morning', 138.) ('Afternoon', 138.) ('Night',  62.) ('Night', 108.)\n",
      " ('Afternoon', 115.) ('Morning',  89.) ('Afternoon', 137.)\n",
      " ('Afternoon',  96.) ('Morning', 138.) ('Night', 131.) ('Night',  87.)\n",
      " ('Night',  75.) ('Night', 127.) ('Afternoon', 122.) ('Night',  59.)\n",
      " ('Night',  70.) ('Night', 130.) ('Night', 119.) ('Night', 129.)\n",
      " ('Morning',  97.) ('Afternoon', 114.) ('Night', 132.) ('Night', 149.)\n",
      " ('Afternoon', 138.) ('Night',  99.) ('Afternoon',  79.) ('Morning',  69.)\n",
      " ('Night',  69.) ('Night',  64.) ('Morning',  89.) ('Night',  82.)\n",
      " ('Morning', 115.) ('Morning',  59.) ('Night', 107.) ('Morning',  82.)\n",
      " ('Night',  81.) ('Night', 124.) ('Night',  73.) ('Morning',  85.)\n",
      " ('Morning', 125.) ('Morning', 105.) ('Afternoon',  78.) ('Night',  84.)\n",
      " ('Morning',  50.) ('Afternoon',  50.) ('Night',  86.) ('Night', 103.)\n",
      " ('Night',  55.) ('Afternoon',  88.) ('Morning',  67.) ('Morning', 129.)\n",
      " ('Morning',  54.) ('Morning',  92.) ('Night', 108.) ('Night',  81.)\n",
      " ('Morning',  51.) ('Morning', 115.) ('Morning',  91.) ('Afternoon', 107.)\n",
      " ('Night',  85.) ('Morning',  61.) ('Morning',  96.) ('Afternoon', 132.)\n",
      " ('Morning', 141.) ('Night',  50.) ('Afternoon',  64.) ('Afternoon', 149.)\n",
      " ('Afternoon', 103.) ('Morning',  62.) ('Morning',  92.) ('Morning', 134.)\n",
      " ('Afternoon', 125.) ('Afternoon', 118.) ('Night',  56.)\n",
      " ('Afternoon', 118.) ('Morning',  97.) ('Morning',  53.)\n",
      " ('Afternoon', 126.) ('Night', 102.) ('Afternoon', 128.)\n",
      " ('Afternoon',  65.) ('Afternoon',  70.) ('Morning', 149.)\n",
      " ('Morning', 108.) ('Morning',  73.) ('Afternoon', 129.) ('Night',  63.)\n",
      " ('Afternoon', 135.) ('Afternoon',  98.)]\n"
     ]
    }
   ],
   "source": [
    "# Tạo structured array\n",
    "workers = np.array(list(zip(np_shifts, np_efficiency)),\n",
    "                   dtype=[('shift', 'U10'), ('efficiency', 'float')])\n",
    "print(\"Workers array:\", workers)\n"
   ]
  },
  {
   "cell_type": "code",
   "execution_count": 7,
   "metadata": {},
   "outputs": [
    {
     "name": "stdout",
     "output_type": "stream",
     "text": [
      "Ca làm việc có hiệu suất thấp nhất: Afternoon\n",
      "Ca làm việc có hiệu suất cao nhất: Night\n"
     ]
    }
   ],
   "source": [
    "# Sắp xếp mảng workers theo efficiency\n",
    "sorted_workers = np.sort(workers, order='efficiency')\n",
    "\n",
    "# Xác định ca làm việc có hiệu suất cao nhất và thấp nhất\n",
    "lowest_efficiency_shift = sorted_workers[0]['shift']\n",
    "highest_efficiency_shift = sorted_workers[-1]['shift']\n",
    "\n",
    "print(\"Ca làm việc có hiệu suất thấp nhất:\", lowest_efficiency_shift)\n",
    "print(\"Ca làm việc có hiệu suất cao nhất:\", highest_efficiency_shift)\n"
   ]
  },
  {
   "cell_type": "code",
   "execution_count": 8,
   "metadata": {},
   "outputs": [
    {
     "name": "stdout",
     "output_type": "stream",
     "text": [
      "Hiệu suất trung bình ca Morning: 96.8529411764706\n",
      "Hiệu suất trung bình các ca khác Morning: 98.93939393939394\n",
      "Ca làm việc có hiệu suất thấp nhất: Afternoon\n",
      "Ca làm việc có hiệu suất cao nhất: Night\n"
     ]
    }
   ],
   "source": [
    "# Kết quả\n",
    "print(\"Hiệu suất trung bình ca Morning:\", morning_avg_efficiency)\n",
    "print(\"Hiệu suất trung bình các ca khác Morning:\", non_morning_avg_efficiency)\n",
    "print(\"Ca làm việc có hiệu suất thấp nhất:\", lowest_efficiency_shift)\n",
    "print(\"Ca làm việc có hiệu suất cao nhất:\", highest_efficiency_shift)"
   ]
  }
 ],
 "metadata": {
  "kernelspec": {
   "display_name": "Python 3",
   "language": "python",
   "name": "python3"
  },
  "language_info": {
   "codemirror_mode": {
    "name": "ipython",
    "version": 3
   },
   "file_extension": ".py",
   "mimetype": "text/x-python",
   "name": "python",
   "nbconvert_exporter": "python",
   "pygments_lexer": "ipython3",
   "version": "3.12.0"
  }
 },
 "nbformat": 4,
 "nbformat_minor": 2
}
