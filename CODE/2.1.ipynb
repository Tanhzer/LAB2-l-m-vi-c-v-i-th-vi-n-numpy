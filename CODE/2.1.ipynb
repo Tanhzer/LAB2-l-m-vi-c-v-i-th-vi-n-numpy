{
 "cells": [
  {
   "cell_type": "markdown",
   "metadata": {},
   "source": [
    "#### 1.Tạo dữ liệu mô phỏng"
   ]
  },
  {
   "cell_type": "code",
   "execution_count": 3,
   "metadata": {},
   "outputs": [],
   "source": [
    "import numpy as np"
   ]
  },
  {
   "cell_type": "code",
   "execution_count": 4,
   "metadata": {},
   "outputs": [
    {
     "name": "stdout",
     "output_type": "stream",
     "text": [
      "nhiệt độ trong tháng: \n",
      " [24.79 23.54 25.97 15.28 12.5  21.24 14.94 26.82 23.78 27.56 16.9  25.34\n",
      " 16.97 10.54 23.04 12.21 24.14 27.06 19.8  29.4  20.45 27.28 20.22 12.03\n",
      " 14.34 29.01 10.94 23.37 20.36 20.16]\n",
      "trung bình nhiệt độ trong tháng là: 20.666\n"
     ]
    }
   ],
   "source": [
    "# tạo mảng mô phỏng dữ liệu nhiệt độ hàng ngày trong một tháng với số thực\n",
    "# nhiệt độ trong khoảng từ 10.0 đến 30.0 độ C\n",
    "nhiet_do = np.round(np.random.uniform(10.0, 30.0, size = 30), 2)\n",
    "print(\"nhiệt độ trong tháng: \\n\", nhiet_do)\n",
    "print(\"trung bình nhiệt độ trong tháng là:\", np.mean(nhiet_do))"
   ]
  },
  {
   "cell_type": "markdown",
   "metadata": {},
   "source": [
    "#### 2.Phân tích xu hướng nhiệt độ"
   ]
  },
  {
   "cell_type": "code",
   "execution_count": 5,
   "metadata": {},
   "outputs": [
    {
     "name": "stdout",
     "output_type": "stream",
     "text": [
      "Nhiệt độ ngày cao nhất trong tháng là: 29.4\n",
      "Ngày có nhiệt độ cao nhất là ngày thứ: 20\n",
      "Nhiệt độ ngày thấp nhất trong tháng là: 10.54\n",
      "Ngày có nhiệt độ thấp nhất là: 14\n"
     ]
    }
   ],
   "source": [
    "#tìm nhiệt độ cao nhất và thấp nhất\n",
    "max_temp = np.max(nhiet_do)\n",
    "min_temp = np.min(nhiet_do)\n",
    "#xác định ngày có nhiệt độ cao nhất và thấp nhất\n",
    "day_max_temp = np.argmax(nhiet_do) + 1\n",
    "day_min_temp = np.argmin(nhiet_do) + 1\n",
    "print(f'Nhiệt độ ngày cao nhất trong tháng là:', max_temp)\n",
    "print(f'Ngày có nhiệt độ cao nhất là ngày thứ:', day_max_temp)\n",
    "print(\"Nhiệt độ ngày thấp nhất trong tháng là:\", min_temp)\n",
    "print(f'Ngày có nhiệt độ thấp nhất là:', day_min_temp)"
   ]
  },
  {
   "cell_type": "code",
   "execution_count": 6,
   "metadata": {},
   "outputs": [
    {
     "name": "stdout",
     "output_type": "stream",
     "text": [
      "chênh lệch nhiệt độ cao nhất là: -18.07\n",
      "ngày chênh lệch cao nhất 26\n"
     ]
    }
   ],
   "source": [
    "#tạo mảng chứa nhiệt độ của ngày hôm trc \n",
    "ngay_truoc = nhiet_do[:-1]\n",
    "#tạo mảng chứa nhiệt độ của ngày hôm sau\n",
    "ngay_sau = nhiet_do[1:]\n",
    "#tính toán độ chênh lệch nhiệt độ giữa ngày hsau và ngày htrc\n",
    "chenh_lech = ngay_sau - ngay_truoc\n",
    "#xác định ngày có sự chênh lệch nhiệt độ lớn nhất \n",
    "dff_max = np.argmax(np.abs(chenh_lech)) + 1\n",
    "max_chenh_lech = chenh_lech[dff_max - 1]\n",
    "print(\"chênh lệch nhiệt độ cao nhất là:\", max_chenh_lech)\n",
    "print(\"ngày chênh lệch cao nhất\", dff_max)"
   ]
  },
  {
   "cell_type": "markdown",
   "metadata": {},
   "source": [
    "### 3.Áp dụng Fancy Indexing"
   ]
  },
  {
   "cell_type": "code",
   "execution_count": 7,
   "metadata": {},
   "outputs": [
    {
     "data": {
      "text/plain": [
       "array([ 1,  2,  3,  6,  8,  9, 10, 12, 15, 17, 18, 20, 21, 22, 23, 26, 28,\n",
       "       29, 30], dtype=int64)"
      ]
     },
     "execution_count": 7,
     "metadata": {},
     "output_type": "execute_result"
    }
   ],
   "source": [
    "#kiểm tra đk nhiệt độ cao hơn 20 độ C\n",
    "condition = nhiet_do > 20\n",
    "#sử dụng np.where để tìm chỉ số của các phần tử thỏa mãn đk\n",
    "indices = np.where(condition)\n",
    "#lấy chỉ số đầu tiên (vì np.where trả về tuple)\n",
    "day_indices = indices[0]\n",
    "#chỉnh chỉ số để phù hợp với đánh số ngày (bắt đầu từ 1 chứ ko phải 0)\n",
    "days_above_20_separated = day_indices + 1\n",
    "days_above_20_separated"
   ]
  },
  {
   "cell_type": "code",
   "execution_count": 8,
   "metadata": {},
   "outputs": [
    {
     "data": {
      "text/plain": [
       "(array([ 0,  1,  2,  5,  7,  8,  9, 11, 14, 16, 17, 19, 20, 21, 22, 25, 27,\n",
       "        28, 29], dtype=int64),)"
      ]
     },
     "execution_count": 8,
     "metadata": {},
     "output_type": "execute_result"
    }
   ],
   "source": [
    "indices"
   ]
  },
  {
   "cell_type": "code",
   "execution_count": 9,
   "metadata": {},
   "outputs": [
    {
     "name": "stdout",
     "output_type": "stream",
     "text": [
      "nhiệt độ các ngày 5,10,15,20,25: [12.5  27.56 23.04 29.4  14.34]\n"
     ]
    }
   ],
   "source": [
    "#lấy nhiệt độ của ngày 5, 10, 15, 20 và 25\n",
    "#tạo mảng chỉ số tương ứng cho các ngày 5, 10, 15, 20 và 25\n",
    "indices = np.array([4,9,14,19,24]) #chỉ số trong numpy bắt đầu từ 0\n",
    "#lấy nhiệt độ của các ngày cụ thể\n",
    "selected_temps = nhiet_do[indices]\n",
    "#hiển thị kết quả\n",
    "print(\"nhiệt độ các ngày 5,10,15,20,25:\", selected_temps)\n"
   ]
  },
  {
   "cell_type": "code",
   "execution_count": 10,
   "metadata": {},
   "outputs": [
    {
     "name": "stdout",
     "output_type": "stream",
     "text": [
      "nhiệt độ trung bình : 20.666\n",
      "nhiệt độ các ngày trên tb: [24.79 23.54 25.97 21.24 26.82 23.78 27.56 25.34 23.04 24.14 27.06 29.4\n",
      " 27.28 29.01 23.37]\n"
     ]
    }
   ],
   "source": [
    "#\n",
    "temp_tb = np.mean(nhiet_do)\n",
    "#lọc nhiệt độ lớn hơn trung bình\n",
    "above_average_temps = nhiet_do[nhiet_do > temp_tb]\n",
    "#hiển thị kết quả \n",
    "print(\"nhiệt độ trung bình :\", temp_tb)\n",
    "print(\"nhiệt độ các ngày trên tb:\", above_average_temps)\n"
   ]
  },
  {
   "cell_type": "code",
   "execution_count": 12,
   "metadata": {},
   "outputs": [
    {
     "name": "stdout",
     "output_type": "stream",
     "text": [
      "nhiệt độ ngày lẻ:  [24.79 25.97 12.5  14.94 23.78 16.9  16.97 23.04 24.14 19.8  20.45 20.22\n",
      " 14.34 10.94 20.36]\n",
      "nhiệt độ ngày chẵn: [23.54 15.28 21.24 26.82 27.56 25.34 10.54 12.21 27.06 29.4  27.28 12.03\n",
      " 29.01 23.37 20.16]\n"
     ]
    }
   ],
   "source": [
    "#chỉ số của các ngày lẻ (ngày 1,3,5,... tương ứng với index 0,2,4,...)\n",
    "odd_indices = np.arange(0, len(nhiet_do), 2) #step = 2\n",
    "#chỉ số của các ngày chẵn (ngày 2,4,6,...tương ứng với index 1,3,5,...)\n",
    "even_indices = np.arange(1, len(nhiet_do), 2) #step = 2\n",
    "#lấy nhiệt độ của ngày lẻ và chẵn bằng fancy indexing\n",
    "odd_days_temps = nhiet_do[odd_indices]\n",
    "even_days_temps = nhiet_do[even_indices]\n",
    "print(\"nhiệt độ ngày lẻ: \", odd_days_temps)\n",
    "print(\"nhiệt độ ngày chẵn:\", even_days_temps)"
   ]
  },
  {
   "cell_type": "code",
   "execution_count": null,
   "metadata": {},
   "outputs": [],
   "source": []
  }
 ],
 "metadata": {
  "kernelspec": {
   "display_name": "Python 3",
   "language": "python",
   "name": "python3"
  },
  "language_info": {
   "codemirror_mode": {
    "name": "ipython",
    "version": 3
   },
   "file_extension": ".py",
   "mimetype": "text/x-python",
   "name": "python",
   "nbconvert_exporter": "python",
   "pygments_lexer": "ipython3",
   "version": "3.12.0"
  }
 },
 "nbformat": 4,
 "nbformat_minor": 2
}
